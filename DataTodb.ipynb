{
 "cells": [
  {
   "cell_type": "code",
   "execution_count": 1,
   "source": [
    "import csv\r\n",
    "import pymysql\r\n",
    "import requests\r\n",
    "import bs4\r\n",
    "\r\n",
    "conn = pymysql.connect(host = 'localhost', user ='root', password = '111111',\r\n",
    "                      db = 'shoppingdb', charset = 'utf8')\r\n",
    "\r\n",
    "cur = conn.cursor()\r\n",
    "\r\n",
    "f = open('koreaStock.csv','r')\r\n",
    "\r\n",
    "csvReader = list(csv.reader(f))"
   ],
   "outputs": [],
   "metadata": {}
  },
  {
   "cell_type": "code",
   "execution_count": 2,
   "source": [
    "sql_code = '''SELECT code FROM company_info;'''\r\n",
    "cur.execute(sql_code)\r\n",
    "result = cur.fetchall()"
   ],
   "outputs": [],
   "metadata": {}
  },
  {
   "cell_type": "code",
   "execution_count": 3,
   "source": [
    "\"\"\" url = 'https://finance.naver.com/item/sise_day.nhn?code='f'{result[12][0]}' \r\n",
    "res = requests.get(url, headers = {'User-agent': 'Mozilla/5.0'})\r\n",
    "\r\n",
    "bs_obj = bs4.BeautifulSoup(res.content, \"html.parser\")\r\n",
    "\r\n",
    "stock_data = bs_obj.find_all(\"td\", {\"class\" : \"num\"})\r\n",
    "stock_data_list = [bs_obj.find_all(\"span\")[n].string for n in range(0, len(stock_data)+11)] \"\"\""
   ],
   "outputs": [],
   "metadata": {}
  },
  {
   "cell_type": "code",
   "execution_count": 4,
   "source": [
    "import requests\r\n",
    "import bs4\r\n",
    "\r\n",
    "def importdata(start, end, page):\r\n",
    "    for i in range(start, end): # len(result)\r\n",
    "        try:\r\n",
    "            url = 'https://finance.naver.com/item/sise_day.nhn?code='f'{result[i][0]}&page={page}'\r\n",
    "            res = requests.get(url, headers = {'User-agent': 'Mozilla/5.0'})\r\n",
    "\r\n",
    "            bs_obj = bs4.BeautifulSoup(res.content, \"html.parser\")\r\n",
    "\r\n",
    "            stock_data = bs_obj.find_all(\"td\", {\"class\" : \"num\"})\r\n",
    "            stock_data_list = [bs_obj.find_all(\"span\")[n].string for n in range(0, len(stock_data) + 11)]\r\n",
    "        except:\r\n",
    "            pass\r\n",
    "        \r\n",
    "        k = 1\r\n",
    "        try:\r\n",
    "            for j in range(0,10):\r\n",
    "            \r\n",
    "                code = result[i][0]\r\n",
    "                date = stock_data_list[k]\r\n",
    "                close = int(stock_data_list[k+1].replace(',',''))\r\n",
    "                diff = int(stock_data_list[k+2].replace(',',''))\r\n",
    "                opens = int(stock_data_list[k+3].replace(',',''))\r\n",
    "                high = int(stock_data_list[k+4].replace(',',''))\r\n",
    "                low = int(stock_data_list[k+5].replace(',',''))\r\n",
    "                vol = int(stock_data_list[k+6].replace(',',''))\r\n",
    "    \r\n",
    "                sql = '''insert into daily_price (code, date, open, high, low, close, diff, volume) values (%s, %s, %s, %s, %s, %s, %s, %s)'''\r\n",
    "                cur.execute(sql, (code, date, opens , high, low, close, diff, vol))\r\n",
    "                k += 7\r\n",
    "        except:\r\n",
    "            return None\r\n",
    "\r\n",
    "    conn.commit()"
   ],
   "outputs": [],
   "metadata": {}
  },
  {
   "cell_type": "code",
   "execution_count": 5,
   "source": [
    "div_code_100 = [i for i in range(0, len(result), 100)]\r\n",
    "div_code_100.append(len(result))"
   ],
   "outputs": [],
   "metadata": {}
  },
  {
   "cell_type": "code",
   "execution_count": null,
   "source": [
    "for i in range(len(div_code_100)-1):\r\n",
    "    importdata(div_code_100[i], div_code_100[i+1])\r\n",
    "    print('%d개 종목 데이터를 정상적으로 DB에 집어넣었습니다.'% (div_code_100[i+1]))"
   ],
   "outputs": [],
   "metadata": {}
  }
 ],
 "metadata": {
  "orig_nbformat": 4,
  "language_info": {
   "name": "python",
   "version": "3.9.6",
   "mimetype": "text/x-python",
   "codemirror_mode": {
    "name": "ipython",
    "version": 3
   },
   "pygments_lexer": "ipython3",
   "nbconvert_exporter": "python",
   "file_extension": ".py"
  },
  "kernelspec": {
   "name": "python3",
   "display_name": "Python 3.9.6 64-bit"
  },
  "interpreter": {
   "hash": "71b59b5ba49ad06bb2a011e750699e3983d230921f30bf7f37eb3a01ae69aa26"
  }
 },
 "nbformat": 4,
 "nbformat_minor": 2
}