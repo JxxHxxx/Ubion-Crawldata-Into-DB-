{
 "cells": [
  {
   "cell_type": "code",
   "execution_count": 2,
   "source": [
    "import csv\r\n",
    "import pymysql\r\n",
    "\r\n",
    "conn = pymysql.connect(host = 'localhost', user ='root', password = '111111',\r\n",
    "                      db = 'shoppingdb', charset = 'utf8')\r\n",
    "\r\n",
    "cur = conn.cursor()\r\n",
    "\r\n",
    "f = open('data_0637_20210915.csv','r')\r\n",
    "\r\n",
    "csvReader = list(csv.reader(f))"
   ],
   "outputs": [],
   "metadata": {}
  },
  {
   "cell_type": "code",
   "execution_count": 3,
   "source": [
    "sql_code = '''SELECT code FROM company_info;'''\r\n",
    "cur.execute(sql_code)\r\n",
    "result = cur.fetchall()"
   ],
   "outputs": [],
   "metadata": {}
  },
  {
   "cell_type": "code",
   "execution_count": 5,
   "source": [
    "cut_result = [50, 100, 150, 200, 250, 300]\r\n",
    "cut_result[0]"
   ],
   "outputs": [
    {
     "output_type": "execute_result",
     "data": {
      "text/plain": [
       "50"
      ]
     },
     "metadata": {},
     "execution_count": 5
    }
   ],
   "metadata": {}
  },
  {
   "cell_type": "code",
   "execution_count": 8,
   "source": [
    "import requests\r\n",
    "import bs4\r\n",
    "\r\n",
    "def importdata(start, end):\r\n",
    "    for i in range(start, end): # len(result)\r\n",
    "        url = 'https://finance.naver.com/item/sise_day.nhn?code='f'{result[3][0]}'\r\n",
    "        res = requests.get(url, headers = {'User-agent': 'Mozilla/5.0'})\r\n",
    "\r\n",
    "        bs_obj = bs4.BeautifulSoup(res.content, \"html.parser\")\r\n",
    "\r\n",
    "        price_data = bs_obj.find_all(\"span\", \"tah p11\")\r\n",
    "        price_data_list = [bs_obj.find_all(\"span\", \"tah p11\")[n].string for n in range(0, len(price_data))] # 종가 # 시가 # 고가 # 저가 # 거래량\r\n",
    "\r\n",
    "        date_data = bs_obj.findAll(\"span\", 'tah p10 gray03')\r\n",
    "        date_data_list = [bs_obj.find_all(\"span\", \"tah p10 gray03\")[n].string for n in range(0, len(date_data))]\r\n",
    "\r\n",
    "        diff_data = bs_obj.findAll(\"span\", 'tah p11 red02')\r\n",
    "        diff_data_list = [bs_obj.find_all(\"span\", \"tah p11 red02\")[n].string for n in range(0, len(diff_data))]\r\n",
    "\r\n",
    "        code = result[i][0]\r\n",
    "        diff = '1'\r\n",
    "        k = 0\r\n",
    "        for j in range(0,10):\r\n",
    "            date = date_data_list[j]\r\n",
    "            row1 = int(price_data_list[k].replace(',',''))\r\n",
    "            row2 = int(price_data_list[k+1].replace(',',''))\r\n",
    "            row3 = int(price_data_list[k+2].replace(',',''))\r\n",
    "            row4 = int(price_data_list[k+3].replace(',',''))\r\n",
    "            row5 = int(price_data_list[k+4].replace(',',''))\r\n",
    "            \r\n",
    "            sql = '''insert into daily_price (code, date, close, open, high, low, diff, volume) values (%s, %s, %s,%s, %s, %s, %s, %s)'''\r\n",
    "            cur.execute(sql, (code, date, row1, row2, row3, row4, diff, row5))\r\n",
    "            k += 5\r\n",
    "\r\n",
    "    conn.commit()\r\n"
   ],
   "outputs": [],
   "metadata": {}
  },
  {
   "cell_type": "code",
   "execution_count": 9,
   "source": [
    "importdata(50, 100)"
   ],
   "outputs": [],
   "metadata": {}
  },
  {
   "cell_type": "code",
   "execution_count": 10,
   "source": [
    "importdata(100, 150)"
   ],
   "outputs": [],
   "metadata": {}
  },
  {
   "cell_type": "code",
   "execution_count": 11,
   "source": [
    "importdata(150, 200)"
   ],
   "outputs": [],
   "metadata": {}
  },
  {
   "cell_type": "code",
   "execution_count": 12,
   "source": [
    "importdata(200, 250)"
   ],
   "outputs": [],
   "metadata": {}
  },
  {
   "cell_type": "code",
   "execution_count": 13,
   "source": [
    "importdata(250, 300)"
   ],
   "outputs": [],
   "metadata": {}
  },
  {
   "cell_type": "code",
   "execution_count": 14,
   "source": [
    "importdata(300, 350)"
   ],
   "outputs": [],
   "metadata": {}
  },
  {
   "cell_type": "code",
   "execution_count": 15,
   "source": [
    "importdata(350, 450)"
   ],
   "outputs": [],
   "metadata": {}
  },
  {
   "cell_type": "code",
   "execution_count": 16,
   "source": [
    "importdata(450, 550)"
   ],
   "outputs": [],
   "metadata": {}
  },
  {
   "cell_type": "code",
   "execution_count": null,
   "source": [],
   "outputs": [],
   "metadata": {}
  }
 ],
 "metadata": {
  "orig_nbformat": 4,
  "language_info": {
   "name": "python",
   "version": "3.9.6",
   "mimetype": "text/x-python",
   "codemirror_mode": {
    "name": "ipython",
    "version": 3
   },
   "pygments_lexer": "ipython3",
   "nbconvert_exporter": "python",
   "file_extension": ".py"
  },
  "kernelspec": {
   "name": "python3",
   "display_name": "Python 3.9.6 64-bit"
  },
  "interpreter": {
   "hash": "71b59b5ba49ad06bb2a011e750699e3983d230921f30bf7f37eb3a01ae69aa26"
  }
 },
 "nbformat": 4,
 "nbformat_minor": 2
}