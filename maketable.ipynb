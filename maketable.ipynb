{
 "cells": [
  {
   "cell_type": "code",
   "execution_count": 1,
   "source": [
    "import csv\r\n",
    "import pymysql\r\n",
    "\r\n",
    "conn = pymysql.connect(host = 'localhost', user ='root', password = '111111',\r\n",
    "                      db = 'shoppingdb', charset = 'utf8')\r\n",
    "\r\n",
    "cur = conn.cursor()"
   ],
   "outputs": [],
   "metadata": {}
  },
  {
   "cell_type": "code",
   "execution_count": null,
   "source": [
    "f = open('data_0637_20210915.csv','r')\r\n",
    "\r\n",
    "csvReader = list(csv.reader(f))"
   ],
   "outputs": [],
   "metadata": {}
  },
  {
   "cell_type": "code",
   "execution_count": null,
   "source": [
    "cur.execute(\"CREATE TABLE IF NOT EXISTS company_info (code char(6) PRIMARY KEY,  name varchar(64))\") # company_info 테이블을 만듭니다.\r\n",
    "\r\n",
    "for data in csvReader[1:]: # csv 파일의 데이터를 옮겨 놓습니다.\r\n",
    "    if len(data[1]) < 6:\r\n",
    "        row1 = '%06d' % int(data[1])\r\n",
    "    else:\r\n",
    "        row1 = data[1]\r\n",
    "    row2 = data[3]\r\n",
    "    \r\n",
    "    sql = '''insert into company_info (code, name) values (%s, %s) ; '''\r\n",
    "    cur.execute(sql, (row1, row2))\r\n",
    "\r\n",
    "f.close()\r\n",
    "conn.commit()"
   ],
   "outputs": [],
   "metadata": {}
  },
  {
   "cell_type": "code",
   "execution_count": 3,
   "source": [
    "cur.execute(\"CREATE TABLE IF NOT EXISTS daily_price (code VARCHAR(6), \\\r\n",
    "                                                     date DATE, \\\r\n",
    "                                                     open bigint(20), \\\r\n",
    "                                                     high bigint(20), \\\r\n",
    "                                                     low bigint(20), \\\r\n",
    "                                                     close bigint(20), \\\r\n",
    "                                                     diff bigint(20),  \\\r\n",
    "                                                     volume bigint(20), \\\r\n",
    "                                                     PRIMARY KEY (code, date))\") # daily_price 테이블을 만듭니다.\r\n",
    "\r\n",
    "conn.commit()"
   ],
   "outputs": [],
   "metadata": {}
  },
  {
   "cell_type": "code",
   "execution_count": null,
   "source": [],
   "outputs": [],
   "metadata": {}
  }
 ],
 "metadata": {
  "orig_nbformat": 4,
  "language_info": {
   "name": "python",
   "version": "3.9.6",
   "mimetype": "text/x-python",
   "codemirror_mode": {
    "name": "ipython",
    "version": 3
   },
   "pygments_lexer": "ipython3",
   "nbconvert_exporter": "python",
   "file_extension": ".py"
  },
  "kernelspec": {
   "name": "python3",
   "display_name": "Python 3.9.6 64-bit"
  },
  "interpreter": {
   "hash": "71b59b5ba49ad06bb2a011e750699e3983d230921f30bf7f37eb3a01ae69aa26"
  }
 },
 "nbformat": 4,
 "nbformat_minor": 2
}